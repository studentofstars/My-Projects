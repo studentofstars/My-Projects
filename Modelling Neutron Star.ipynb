{
 "cells": [
  {
   "cell_type": "code",
   "execution_count": 11,
   "id": "12616c98",
   "metadata": {},
   "outputs": [],
   "source": [
    "import numpy as np #arrays\n",
    "import matplotlib.pyplot as plt #visualising the results"
   ]
  },
  {
   "cell_type": "markdown",
   "id": "3acae581",
   "metadata": {},
   "source": [
    "def initial_n(): #initial number of neutrons per unit volume at r=0\n",
    "    n=1                   #Initial value of n\n",
    "    err=1                 #Initial error\n",
    "    tol=1e-15             #Tolerance value\n",
    "    count=0               #To track total number of iterations\n",
    "  #Newton Raphson Method \n",
    "    while err>tol:\n",
    "        count +=1\n",
    "        fn=236*n**(2.54)+n*mn-rho_s\n",
    "        dfn=236*2.54*n**(1.54)+mn\n",
    "        temp = n- fn/dfn\n",
    "        err = np.abs(n-temp)\n",
    "        n=temp\n",
    "    print(\"Newton-Raphson Converged after \", count, \"iterations\")\n",
    "    return n"
   ]
  },
  {
   "cell_type": "code",
   "execution_count": 13,
   "id": "4fc480be",
   "metadata": {},
   "outputs": [],
   "source": [
    "def rho(p):\n",
    "    \n",
    "    # Energy Density of a neutron star at a given pressure\n",
    "    # rho_s - central density at r=0\n",
    "    # mn - mass of a neutron\n",
    "    # n- number density  at given pressure\n",
    "    \n",
    "    n=(p*rho_s/363.44)**(1/2.54)\n",
    "    return (236.*n**2.54 + n*mn)/rho_s"
   ]
  },
  {
   "cell_type": "code",
   "execution_count": 14,
   "id": "8f156951",
   "metadata": {},
   "outputs": [],
   "source": [
    "def dp_dr(r,m,p,flag):\n",
    "    \n",
    "    #Pressure Gradient\n",
    "    #r-distance from the centre of neutron star\n",
    "    #m-mass enclosed within the value of r\n",
    "    #p-pressure at the value of r\n",
    "    #flag-choose between classical and relativistic models\n",
    "    \n",
    "    if flag==0:\n",
    "        #classical model\n",
    "        y= -m*rho(p)/(r**2+1e-20)\n",
    "    else:\n",
    "        #relativistic model\n",
    "        y=-(p+rho(p))*(m+p*r**3)/(r**2-2*m*r + 1e-20)\n",
    "        \n",
    "        \n",
    "    return y    "
   ]
  },
  {
   "cell_type": "code",
   "execution_count": 15,
   "id": "7367bf81",
   "metadata": {},
   "outputs": [],
   "source": [
    "def dm_dr(r,m,p):\n",
    "    #Mass Gradient\n",
    "    #Same r,m,p as we used for pressure gradient are to be used for mass gradient\n",
    "    return rho(p)*r**2"
   ]
  },
  {
   "cell_type": "code",
   "execution_count": 16,
   "id": "5fdde840",
   "metadata": {},
   "outputs": [],
   "source": [
    "def rk4solver (r,m,p,h,flag):\n",
    "    # Runge-Kutta 4th order method\n",
    "    # Calculates 4 different pressure and mass gradients\n",
    "    # k1i - Mass gradients\n",
    "    # k2i - pressure gradients\n",
    "    y= np.zeros(2)\n",
    "    \n",
    "    #Gradient 1 starting point\n",
    "    k11=dm_dr(r,m,p)\n",
    "    k21=dp_dr(r,m,p,flag)\n",
    "    \n",
    "    #Gradient 2 at mid of start and end point\n",
    "    k12 = dm_dr(r + 0.5*h, m + 0.5*k11*h, p + 0.5*k21*h)\n",
    "    k22 = dp_dr(r + 0.5*h, m + 0.5*k11*h, p + 0.5*k21*h, flag)\n",
    "\n",
    "    #Gradient 3 at mid of start and end point\n",
    "    k13 = dm_dr(r + 0.5*h, m + 0.5*k12*h, p + 0.5*k22*h)\n",
    "    k23 = dp_dr(r + 0.5*h, m + 0.5*k12*h, p + 0.5*k22*h, flag)\n",
    "    \n",
    "    #Gradient 4 at the end point\n",
    "    k14=dm_dr(r+h, m+h*k13, p+h*k23)\n",
    "    k24=dp_dr(r+h, m+h*k11, p+h*k23,flag)\n",
    "    \n",
    "    #updation of m and p\n",
    "    y[0]=m+h*(k11+2*k12+2*k13+k14)/6\n",
    "    y[1]=p+h*(k21+2*k22+2*k23+k24)/6\n",
    "    \n",
    "    return y"
   ]
  },
  {
   "cell_type": "code",
   "execution_count": 17,
   "id": "25b56e06",
   "metadata": {},
   "outputs": [],
   "source": [
    "def plot_data(color, label):\n",
    "    \n",
    "    #Mass Profile\n",
    "    plt.subplot(1,2,1)\n",
    "    plt.plot(r*R0*1e-18, m*M0/Ms, color=color, linewidth=1.2, label=label)\n",
    "    plt.xlabel('Distance, $r$(km)', fontsize=13)\n",
    "    plt.ylabel('Mass, $M/M_(sun)$', fontsize=13)\n",
    "    plt.title('Mass Profile of a Neutron Star', color = 'tab:red', weight='bold', fontsize = 15)\n",
    "    plt.xlim(left=0)\n",
    "    plt.ylim(bottom=0)\n",
    "    plt.legend(fontsize=13, frameon=False)\n",
    "    \n",
    "    #Pressure Profile\n",
    "    plt.subplot(1,2,2)\n",
    "    plt.plot(r*R0*1e-18, p*rho_s, color=color, linewidth=1.2, label=label)\n",
    "    plt.xlabel('Distance, $r$(km)', fontsize=13)\n",
    "    plt.ylabel('Mass, $P$ $(MeV/fm^{3})$', fontsize=13)\n",
    "    plt.title('Pressure Profile of a Neutron Star', color = 'tab:red', weight='bold', fontsize = 15)\n",
    "    plt.xlim(left=0)\n",
    "    plt.ylim(bottom=0)\n",
    "    plt.legend(fontsize=13, frameon=False)\n",
    "    \n",
    "    \n",
    "    "
   ]
  },
  {
   "cell_type": "code",
   "execution_count": 18,
   "id": "ce1d0f34",
   "metadata": {},
   "outputs": [],
   "source": [
    "#Simulation parameters and Conversion factors\n",
    "\n",
    "hc=197.327                            #conversion factor in MeV fm (h bar*c)\n",
    "G= hc*6.67259e-45                     #gravitational constant in MeV^-1 fm^3 kg^-1\n",
    "Ms=1.1157467e60                       #mass of Sun in MeV\n",
    "rho_s=1665.3                          #central density of neutron star (density at r=0) in MeV/fm^3\n",
    "M0=(4*3.14159265*(G**3)*rho_s)**(-0.5)\n",
    "R0=G*M0\n",
    "mn=938.926                            #mass of a neutron in MeV c^-2\n"
   ]
  },
  {
   "cell_type": "code",
   "execution_count": 19,
   "id": "2caf9246",
   "metadata": {},
   "outputs": [
    {
     "name": "stdout",
     "output_type": "stream",
     "text": [
      "Newton-Raphson Converged after  5 iterations\n",
      "Initial number density, ni= 1.2918969375342138\n",
      "Initial Pressure, P[0]= 696.5487390842761 MeV/fm^3\n",
      "Simulation range, R=0 to R= 90.36486611870906 km\n",
      "Step size for RK4 Solver: 0.01\n"
     ]
    }
   ],
   "source": [
    "#Initialising values and arrays\n",
    "\n",
    "'''Values for radius, step size and tolerance value'''\n",
    "N=1501                       #Total number of data points\n",
    "r=np.linspace(0,15,N)        #Values of radius to compute enclosed mass within it \n",
    "h=r[1]-r[0]                  #step size for RK4solver\n",
    "tol=9e-5                     #tolerance for RK4solver\n",
    "\n",
    "'''Arrays to store the updation values in RK4Solver'''\n",
    "m=np.zeros(N)                #mass\n",
    "p=np.zeros(N)                #pressure\n",
    "\n",
    "'''Initial Number Density of Neutrons at r=0'''\n",
    "ni=initial_n()\n",
    "\n",
    "'''Setting initial values in the array- values at the centre of the neutron star'''\n",
    "r[0]=0                       #radius\n",
    "m[0]=0                       #mass\n",
    "p[0]=363.44*(ni**2.54)/rho_s #pressure\n",
    "\n",
    "'''Setting flags for choosing between classical and relativistic model'''\n",
    "flag_set=[0,1]\n",
    "\n",
    "'''Printing Initial values'''\n",
    "print(\"Initial number density, ni=\", ni)\n",
    "print(\"Initial Pressure, P[0]=\", p[0]*rho_s, \"MeV/fm^3\")\n",
    "print(\"Simulation range, R=0 to R=\", r[-1]*R0*1e-18, \"km\") #1e-18 is the conversion factor from femtometers to kilometers\n",
    "print(\"Step size for RK4 Solver:\",h)"
   ]
  },
  {
   "cell_type": "code",
   "execution_count": 20,
   "id": "c4ac943d",
   "metadata": {},
   "outputs": [
    {
     "name": "stdout",
     "output_type": "stream",
     "text": [
      "\n",
      "=========================================================\n",
      "Classical Model Results: p<9e-05 found after 275 runs\n",
      "=========================================================\n",
      "Initial density, rho_s =  1665.3 MeV/fm^3\n",
      "Total mass =  10.076418180199878 times Solar Mass\n",
      "Radius of the Neutron Star =  16.627135365842467 km\n",
      "\n",
      "=========================================================\n",
      "Relativistic Model Results: p<9e-05 found after 161 runs\n",
      "=========================================================\n",
      "Initial density, rho_s =  1665.3 MeV/fm^3\n",
      "Total mass =  1.8781620654622986 times Solar Mass\n",
      "Radius of the Neutron Star =  9.759405540820579 km\n",
      "\n"
     ]
    },
    {
     "data": {
      "image/png": "[encoded data removed]",
      "text/plain": [
       "<Figure size 1296x360 with 2 Axes>"
      ]
     },
     "metadata": {
      "needs_background": "light"
     },
     "output_type": "display_data"
    }
   ],
   "source": [
    "'''Using Rk4 Numerical Method for modelling a neutron star'''\n",
    "plt.figure(figsize = (18,5))                                        # setting up the figure size of objects\n",
    "for k in range (0,2):                                              # k will take up two values in this run ---> 0 and 1\n",
    "    flag=flag_set[k]                                               # flag_set[0] =0, flag_set[1] =1 \n",
    "    for i in range(0,N-1):                                         # for 1500 iterations\n",
    "        if flag ==0:                                               # if the flag is set to 0\n",
    "            [m[i+1], p[i+1]]= rk4solver(r[i],m[i],p[i],h,flag)     # use classical model\n",
    "        else:                                                      # if not 0\n",
    "            [m[i+1], p[i+1]]= rk4solver(r[i],m[i],p[i],h,flag)     # use relativistic model\n",
    "        if p[i+1]<tol:                                             # if the value of the pressure goes below tolerance \n",
    "            break                                                  # the simulation is completed\n",
    "    print()                                                        # for a new line between outputs\n",
    "    if i==N-2:                                                     # if the pressure value does not go below the tolerance\n",
    "        lbl1=\"Program didn't converge to P=0, extend the maximum value of r\" #print to increase iteration\n",
    "    else:\n",
    "        lbl1=f\"p<{tol} found after {i} runs\"\n",
    "    ''' Keep only the used indices of array discarding the remaining ones'''    \n",
    "    m= m[:i+2]    #m[0:i+2--> Exclusive index]\n",
    "    p= p[:i+2]\n",
    "    r= r[:i+2]\n",
    "            \n",
    "    '''Visualising Results'''\n",
    "    if flag == 0:\n",
    "        lbl= \"Classical Model\"\n",
    "        plot_data('tab:orange', \"Classical Model\")\n",
    "    else:\n",
    "        lbl= \"Relativistic Model\"\n",
    "        plot_data('tab:cyan', \"Relativistic Model\")\n",
    "     \n",
    "    '''Printing the overall output'''\n",
    "    print(\"=========================================================\")    \n",
    "    print(lbl, \"Results:\", lbl1)\n",
    "    print(\"=========================================================\")\n",
    "    print(\"Initial density, rho_s = \", rho_s, \"MeV/fm^3\")\n",
    "    print(\"Total mass = \", m[-1]*M0/Ms, \"times Solar Mass\")\n",
    "    print(\"Radius of the Neutron Star = \", r[-1]*R0*1e-18,\"km\")\n",
    "print()\n",
    "plt.subplots_adjust(wspace=0.15)\n",
    "    \n",
    "    "
   ]
  },
  {
   "cell_type": "code",
   "execution_count": null,
   "id": "798b9ac1",
   "metadata": {},
   "outputs": [],
   "source": []
  },
  {
   "cell_type": "code",
   "execution_count": null,
   "id": "9db18bcb",
   "metadata": {},
   "outputs": [],
   "source": []
  }
 ],
 "metadata": {
  "kernelspec": {
   "display_name": "Python 3 (ipykernel)",
   "language": "python",
   "name": "python3"
  },
  "language_info": {
   "codemirror_mode": {
    "name": "ipython",
    "version": 3
   },
   "file_extension": ".py",
   "mimetype": "text/x-python",
   "name": "python",
   "nbconvert_exporter": "python",
   "pygments_lexer": "ipython3",
   "version": "3.9.7"
  }
 },
 "nbformat": 4,
 "nbformat_minor": 5
}
